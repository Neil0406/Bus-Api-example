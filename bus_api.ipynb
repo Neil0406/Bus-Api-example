{
 "cells": [
  {
   "cell_type": "code",
   "execution_count": 1,
   "metadata": {},
   "outputs": [],
   "source": [
    "from hashlib import sha1\n",
    "import hmac\n",
    "from wsgiref.handlers import format_date_time\n",
    "from datetime import datetime\n",
    "from time import mktime\n",
    "import base64\n",
    "from requests import request\n",
    "from pprint import pprint\n",
    "import math\n",
    "import json\n",
    "import geocoder   #取得目前最近座標 需pip"
   ]
  },
  {
   "cell_type": "code",
   "execution_count": 22,
   "metadata": {},
   "outputs": [],
   "source": [
    "\n",
    "\n",
    "app_id = 'FFFFFFFF-FFFF-FFFF-FFFF-FFFFFFFFFFFF'\n",
    "app_key = 'FFFFFFFF-FFFF-FFFF-FFFF-FFFFFFFFFFFF'\n",
    "\n",
    "class Auth():\n",
    "\n",
    "    def __init__(self, app_id, app_key):\n",
    "        self.app_id = app_id\n",
    "        self.app_key = app_key\n",
    "\n",
    "    def get_auth_header(self):\n",
    "        xdate = format_date_time(mktime(datetime.now().timetuple()))\n",
    "        hashed = hmac.new(self.app_key.encode('utf8'), ('x-date: ' + xdate).encode('utf8'), sha1)\n",
    "        signature = base64.b64encode(hashed.digest()).decode()\n",
    "\n",
    "        authorization = 'hmac username=\"' + self.app_id + '\", ' + \\\n",
    "                        'algorithm=\"hmac-sha1\", ' + \\\n",
    "                        'headers=\"x-date\", ' + \\\n",
    "                        'signature=\"' + signature + '\"'\n",
    "        return {\n",
    "            'Authorization': authorization,\n",
    "            'x-date': format_date_time(mktime(datetime.now().timetuple())),\n",
    "            'Accept - Encoding': 'gzip'\n",
    "        }\n",
    "\n",
    "\n",
    "if __name__ == '__main__':\n",
    "    a = Auth(app_id, app_key)\n",
    "    #\n",
    "#     response = request('get', 'https://ptx.transportdata.tw/MOTC/v2/Bus/EstimatedTimeOfArrival/City/NewTaipei?$format=JSON', headers= a.get_auth_header())\n",
    "    #定點資料(非定時)\n",
    "    real = request('get', 'https://ptx.transportdata.tw/MOTC/v2/Bus/EstimatedTimeOfArrival/City/Taipei?$format=JSON', headers= a.get_auth_header())\n",
    "\n",
    "    "
   ]
  },
  {
   "cell_type": "code",
   "execution_count": 23,
   "metadata": {
    "tags": []
   },
   "outputs": [
    {
     "output_type": "stream",
     "name": "stdout",
     "text": "14/去程/0分鐘\n232/回程/13分鐘\n14/回程/8分鐘\n232/去程/6分鐘\n"
    }
   ],
   "source": [
    "#Direction (integer): 去返程 : [0:'去程',1:'返程',2:'迴圈',255:'未知']\n",
    "# StopName (NameType, optional): 站牌名 ,\n",
    "# RouteName (NameType, optional): 路線名 ,\n",
    "# Estimates (Array[Estimate], optional): 到站時間預估  ,\n",
    "# StopStatus (integer, optional): 車輛狀態備註 : [0:'正常',1:'尚未發車',2:'交管不停靠',3:'末班車已過',4:'今日未營運'] ,\n",
    "\n",
    "reals = json.loads(real.text)\n",
    "\n",
    "inp = input(str(\"請輸入站牌\"))\n",
    "\n",
    "\n",
    "lu = []\n",
    "\n",
    "for i in reals:\n",
    "    lu_dic = {}\n",
    "    if i['StopName']['Zh_tw'] == f'{inp}':\n",
    "        try:\n",
    "#             print(i['RouteName']['Zh_tw'], i['Direction'], i['EstimateTime'])\n",
    "            lu_dic['路線'] = i['RouteName']['Zh_tw']\n",
    "            lu_dic['方向'] = i['Direction']\n",
    "            lu_dic['預計抵達'] = f\"{i['EstimateTime'] / 60:.0f}\" + '分鐘'\n",
    "        except:\n",
    "#             print(i['RouteName']['Zh_tw'], i['Direction'], 'NaN')\n",
    "            lu_dic['路線'] = i['RouteName']['Zh_tw']\n",
    "            lu_dic['方向'] = i['Direction']\n",
    "            lu_dic['預計抵達'] = 'NaN'\n",
    "        lu.append(lu_dic)\n",
    "for i in lu:\n",
    "    if i['方向'] == 0:\n",
    "        i['方向'] = '去程'\n",
    "    elif i['方向'] == 1:\n",
    "        i['方向'] = '回程'\n",
    "    else:\n",
    "        i['方向'] = '未知'\n",
    "for i in lu:\n",
    "    print(i['路線'] + '/' + i['方向'] + '/' + i['預計抵達'])"
   ]
  },
  {
   "cell_type": "code",
   "execution_count": 43,
   "metadata": {},
   "outputs": [],
   "source": [
    "\n"
   ]
  },
  {
   "cell_type": "code",
   "execution_count": null,
   "metadata": {},
   "outputs": [],
   "source": []
  },
  {
   "cell_type": "code",
   "execution_count": null,
   "metadata": {},
   "outputs": [],
   "source": []
  },
  {
   "cell_type": "code",
   "execution_count": null,
   "metadata": {},
   "outputs": [],
   "source": []
  },
  {
   "cell_type": "code",
   "execution_count": null,
   "metadata": {},
   "outputs": [],
   "source": []
  },
  {
   "cell_type": "code",
   "execution_count": null,
   "metadata": {},
   "outputs": [],
   "source": []
  },
  {
   "cell_type": "code",
   "execution_count": null,
   "metadata": {},
   "outputs": [],
   "source": []
  },
  {
   "cell_type": "code",
   "execution_count": null,
   "metadata": {},
   "outputs": [],
   "source": []
  }
 ],
 "metadata": {
  "kernelspec": {
   "display_name": "Python 3",
   "language": "python",
   "name": "python3"
  },
  "language_info": {
   "codemirror_mode": {
    "name": "ipython",
    "version": 3
   },
   "file_extension": ".py",
   "mimetype": "text/x-python",
   "name": "python",
   "nbconvert_exporter": "python",
   "pygments_lexer": "ipython3",
   "version": "3.7.6"
  }
 },
 "nbformat": 4,
 "nbformat_minor": 2
}